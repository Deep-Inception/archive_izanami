{
 "cells": [
  {
   "cell_type": "code",
   "execution_count": 1,
   "metadata": {},
   "outputs": [],
   "source": [
    "%%HTML\n",
    "<style>\n",
    "    div#notebook-container    { width: 100%; }\n",
    "    div#menubar-container     { width: 65%; }\n",
    "    div#maintoolbar-container { width: 99%; }\n",
    "</style>\n",
    "\n",
    "import importlib\n",
    "importlib.reload(util)"
   ]
  },
  {
   "cell_type": "code",
   "execution_count": 2,
   "metadata": {},
   "outputs": [
    {
     "data": {
      "text/html": [
       "<style>\n",
       "    div#notebook-container    { width: 100%; }\n",
       "    div#menubar-container     { width: 65%; }\n",
       "    div#maintoolbar-container { width: 99%; }\n",
       "</style>"
      ],
      "text/plain": [
       "<IPython.core.display.HTML object>"
      ]
     },
     "metadata": {},
     "output_type": "display_data"
    },
    {
     "data": {
      "text/html": [
       "<style>\n",
       "    div#notebook-container    { width: 100%; }\n",
       "    div#menubar-container     { width: 65%; }\n",
       "    div#maintoolbar-container { width: 99%; }\n",
       "</style>\n",
       "\n",
       "import importlib\n",
       "importlib.reload(util)"
      ],
      "text/plain": [
       "<IPython.core.display.HTML object>"
      ]
     },
     "metadata": {},
     "output_type": "display_data"
    }
   ],
   "source": [
    "import raceresults\n",
    "import dataprepare\n",
    "import pandas as pd\n",
    "race_results_obj = raceresults.RaceResults()\n",
    "data_prepare_obj = dataprepare.DataPrepare()\n",
    "data_prepare_obj.data_prepare(race_results_obj.get_results_pd(), True)\n",
    "race_results = data_prepare_obj.get_extracted_data()"
   ]
  },
  {
   "cell_type": "code",
   "execution_count": 3,
   "metadata": {
    "scrolled": true
   },
   "outputs": [
    {
     "data": {
      "text/html": [
       "<div>\n",
       "<style scoped>\n",
       "    .dataframe tbody tr th:only-of-type {\n",
       "        vertical-align: middle;\n",
       "    }\n",
       "\n",
       "    .dataframe tbody tr th {\n",
       "        vertical-align: top;\n",
       "    }\n",
       "\n",
       "    .dataframe thead th {\n",
       "        text-align: right;\n",
       "    }\n",
       "</style>\n",
       "<table border=\"1\" class=\"dataframe\">\n",
       "  <thead>\n",
       "    <tr style=\"text-align: right;\">\n",
       "      <th></th>\n",
       "      <th>RACE_TIME</th>\n",
       "      <th>RACER_ID</th>\n",
       "      <th>PLACE</th>\n",
       "      <th>DISTANCE</th>\n",
       "      <th>COURSE</th>\n",
       "      <th>EXHIBITION_TIME</th>\n",
       "      <th>RACE_DATE</th>\n",
       "    </tr>\n",
       "  </thead>\n",
       "  <tbody>\n",
       "    <tr>\n",
       "      <th>0</th>\n",
       "      <td>106.3</td>\n",
       "      <td>4715</td>\n",
       "      <td>芦屋</td>\n",
       "      <td>1800</td>\n",
       "      <td>2</td>\n",
       "      <td>6.72</td>\n",
       "      <td>2020-01-21</td>\n",
       "    </tr>\n",
       "    <tr>\n",
       "      <th>1</th>\n",
       "      <td>106.3</td>\n",
       "      <td>4715</td>\n",
       "      <td>芦屋</td>\n",
       "      <td>1800</td>\n",
       "      <td>2</td>\n",
       "      <td>6.72</td>\n",
       "      <td>2020-01-21</td>\n",
       "    </tr>\n",
       "    <tr>\n",
       "      <th>2</th>\n",
       "      <td>107.7</td>\n",
       "      <td>4342</td>\n",
       "      <td>芦屋</td>\n",
       "      <td>1800</td>\n",
       "      <td>1</td>\n",
       "      <td>6.70</td>\n",
       "      <td>2020-01-21</td>\n",
       "    </tr>\n",
       "    <tr>\n",
       "      <th>3</th>\n",
       "      <td>107.7</td>\n",
       "      <td>4342</td>\n",
       "      <td>芦屋</td>\n",
       "      <td>1800</td>\n",
       "      <td>1</td>\n",
       "      <td>6.70</td>\n",
       "      <td>2020-01-21</td>\n",
       "    </tr>\n",
       "    <tr>\n",
       "      <th>4</th>\n",
       "      <td>109.4</td>\n",
       "      <td>5017</td>\n",
       "      <td>芦屋</td>\n",
       "      <td>1800</td>\n",
       "      <td>5</td>\n",
       "      <td>6.74</td>\n",
       "      <td>2020-01-21</td>\n",
       "    </tr>\n",
       "  </tbody>\n",
       "</table>\n",
       "</div>"
      ],
      "text/plain": [
       "   RACE_TIME RACER_ID PLACE  DISTANCE  COURSE  EXHIBITION_TIME   RACE_DATE\n",
       "0      106.3     4715    芦屋      1800       2             6.72  2020-01-21\n",
       "1      106.3     4715    芦屋      1800       2             6.72  2020-01-21\n",
       "2      107.7     4342    芦屋      1800       1             6.70  2020-01-21\n",
       "3      107.7     4342    芦屋      1800       1             6.70  2020-01-21\n",
       "4      109.4     5017    芦屋      1800       5             6.74  2020-01-21"
      ]
     },
     "execution_count": 3,
     "metadata": {},
     "output_type": "execute_result"
    }
   ],
   "source": [
    "race_results.head()"
   ]
  },
  {
   "cell_type": "code",
   "execution_count": 4,
   "metadata": {
    "scrolled": true
   },
   "outputs": [
    {
     "name": "stdout",
     "output_type": "stream",
     "text": [
      "<class 'pandas.core.frame.DataFrame'>\n",
      "Int64Index: 137291 entries, 0 to 140242\n",
      "Data columns (total 7 columns):\n",
      "RACE_TIME          137291 non-null float64\n",
      "RACER_ID           137291 non-null object\n",
      "PLACE              137291 non-null object\n",
      "DISTANCE           137291 non-null int64\n",
      "COURSE             137291 non-null int64\n",
      "EXHIBITION_TIME    137291 non-null float64\n",
      "RACE_DATE          137291 non-null object\n",
      "dtypes: float64(2), int64(2), object(3)\n",
      "memory usage: 8.4+ MB\n"
     ]
    }
   ],
   "source": [
    "race_results.info()"
   ]
  },
  {
   "cell_type": "code",
   "execution_count": 5,
   "metadata": {
    "scrolled": true
   },
   "outputs": [
    {
     "data": {
      "text/html": [
       "<div>\n",
       "<style scoped>\n",
       "    .dataframe tbody tr th:only-of-type {\n",
       "        vertical-align: middle;\n",
       "    }\n",
       "\n",
       "    .dataframe tbody tr th {\n",
       "        vertical-align: top;\n",
       "    }\n",
       "\n",
       "    .dataframe thead th {\n",
       "        text-align: right;\n",
       "    }\n",
       "</style>\n",
       "<table border=\"1\" class=\"dataframe\">\n",
       "  <thead>\n",
       "    <tr style=\"text-align: right;\">\n",
       "      <th></th>\n",
       "      <th>RACE_TIME</th>\n",
       "      <th>DISTANCE</th>\n",
       "      <th>COURSE</th>\n",
       "      <th>EXHIBITION_TIME</th>\n",
       "    </tr>\n",
       "  </thead>\n",
       "  <tbody>\n",
       "    <tr>\n",
       "      <th>count</th>\n",
       "      <td>137291.000000</td>\n",
       "      <td>137291.0</td>\n",
       "      <td>137291.000000</td>\n",
       "      <td>137291.000000</td>\n",
       "    </tr>\n",
       "    <tr>\n",
       "      <th>mean</th>\n",
       "      <td>112.712826</td>\n",
       "      <td>1800.0</td>\n",
       "      <td>3.496172</td>\n",
       "      <td>6.781178</td>\n",
       "    </tr>\n",
       "    <tr>\n",
       "      <th>std</th>\n",
       "      <td>3.083845</td>\n",
       "      <td>0.0</td>\n",
       "      <td>1.707103</td>\n",
       "      <td>0.099424</td>\n",
       "    </tr>\n",
       "    <tr>\n",
       "      <th>min</th>\n",
       "      <td>104.500000</td>\n",
       "      <td>1800.0</td>\n",
       "      <td>1.000000</td>\n",
       "      <td>6.380000</td>\n",
       "    </tr>\n",
       "    <tr>\n",
       "      <th>25%</th>\n",
       "      <td>110.600000</td>\n",
       "      <td>1800.0</td>\n",
       "      <td>2.000000</td>\n",
       "      <td>6.710000</td>\n",
       "    </tr>\n",
       "    <tr>\n",
       "      <th>50%</th>\n",
       "      <td>112.600000</td>\n",
       "      <td>1800.0</td>\n",
       "      <td>3.000000</td>\n",
       "      <td>6.770000</td>\n",
       "    </tr>\n",
       "    <tr>\n",
       "      <th>75%</th>\n",
       "      <td>114.400000</td>\n",
       "      <td>1800.0</td>\n",
       "      <td>5.000000</td>\n",
       "      <td>6.840000</td>\n",
       "    </tr>\n",
       "    <tr>\n",
       "      <th>max</th>\n",
       "      <td>150.000000</td>\n",
       "      <td>1800.0</td>\n",
       "      <td>6.000000</td>\n",
       "      <td>7.420000</td>\n",
       "    </tr>\n",
       "  </tbody>\n",
       "</table>\n",
       "</div>"
      ],
      "text/plain": [
       "           RACE_TIME  DISTANCE         COURSE  EXHIBITION_TIME\n",
       "count  137291.000000  137291.0  137291.000000    137291.000000\n",
       "mean      112.712826    1800.0       3.496172         6.781178\n",
       "std         3.083845       0.0       1.707103         0.099424\n",
       "min       104.500000    1800.0       1.000000         6.380000\n",
       "25%       110.600000    1800.0       2.000000         6.710000\n",
       "50%       112.600000    1800.0       3.000000         6.770000\n",
       "75%       114.400000    1800.0       5.000000         6.840000\n",
       "max       150.000000    1800.0       6.000000         7.420000"
      ]
     },
     "execution_count": 5,
     "metadata": {},
     "output_type": "execute_result"
    }
   ],
   "source": [
    "race_results.describe()"
   ]
  },
  {
   "cell_type": "code",
   "execution_count": 6,
   "metadata": {
    "scrolled": true
   },
   "outputs": [
    {
     "data": {
      "text/plain": [
       "array([[<matplotlib.axes._subplots.AxesSubplot object at 0x1a21f62c18>,\n",
       "        <matplotlib.axes._subplots.AxesSubplot object at 0x1a22008198>],\n",
       "       [<matplotlib.axes._subplots.AxesSubplot object at 0x1a220a8710>,\n",
       "        <matplotlib.axes._subplots.AxesSubplot object at 0x1a220fec88>]],\n",
       "      dtype=object)"
      ]
     },
     "execution_count": 6,
     "metadata": {},
     "output_type": "execute_result"
    },
    {
     "data": {
      "image/png": "[encoded data removed]",
      "text/plain": [
       "<Figure size 720x360 with 4 Axes>"
      ]
     },
     "metadata": {
      "needs_background": "light"
     },
     "output_type": "display_data"
    }
   ],
   "source": [
    "%matplotlib inline\n",
    "import matplotlib.pyplot as plt\n",
    "race_results.hist(bins=50, figsize=(10,5))"
   ]
  },
  {
   "cell_type": "code",
   "execution_count": 7,
   "metadata": {},
   "outputs": [
    {
     "data": {
      "text/plain": [
       "RACE_TIME          1.000000\n",
       "COURSE             0.296244\n",
       "EXHIBITION_TIME    0.165767\n",
       "DISTANCE                NaN\n",
       "Name: RACE_TIME, dtype: float64"
      ]
     },
     "execution_count": 7,
     "metadata": {},
     "output_type": "execute_result"
    }
   ],
   "source": [
    "corr_matrix = race_results.corr()\n",
    "corr_matrix[\"RACE_TIME\"].sort_values(ascending=False)"
   ]
  }
 ],
 "metadata": {
  "kernelspec": {
   "display_name": "Python 3",
   "language": "python",
   "name": "python3"
  },
  "language_info": {
   "codemirror_mode": {
    "name": "ipython",
    "version": 3
   },
   "file_extension": ".py",
   "mimetype": "text/x-python",
   "name": "python",
   "nbconvert_exporter": "python",
   "pygments_lexer": "ipython3",
   "version": "3.6.8"
  },
  "toc": {
   "base_numbering": 1,
   "nav_menu": {},
   "number_sections": true,
   "sideBar": true,
   "skip_h1_title": false,
   "title_cell": "Table of Contents",
   "title_sidebar": "Contents",
   "toc_cell": false,
   "toc_position": {},
   "toc_section_display": true,
   "toc_window_display": false
  }
 },
 "nbformat": 4,
 "nbformat_minor": 2
}
