{
 "cells": [
  {
   "cell_type": "code",
   "execution_count": 1,
   "metadata": {},
   "outputs": [
    {
     "data": {
      "text/html": [
       "<style>\n",
       "    div#notebook-container    { width: 100%; }\n",
       "    div#menubar-container     { width: 65%; }\n",
       "    div#maintoolbar-container { width: 99%; }\n",
       "</style>\n",
       "\n",
       "import importlib\n",
       "importlib.reload(util)\n"
      ],
      "text/plain": [
       "<IPython.core.display.HTML object>"
      ]
     },
     "metadata": {},
     "output_type": "display_data"
    }
   ],
   "source": [
    "%%HTML\n",
    "<style>\n",
    "    div#notebook-container    { width: 100%; }\n",
    "    div#menubar-container     { width: 65%; }\n",
    "    div#maintoolbar-container { width: 99%; }\n",
    "</style>\n",
    "\n",
    "import importlib\n",
    "importlib.reload(util)"
   ]
  },
  {
   "cell_type": "code",
   "execution_count": 2,
   "metadata": {},
   "outputs": [
    {
     "data": {
      "text/html": [
       "<style>\n",
       "    div#notebook-container    { width: 100%; }\n",
       "    div#menubar-container     { width: 65%; }\n",
       "    div#maintoolbar-container { width: 99%; }\n",
       "</style>"
      ],
      "text/plain": [
       "<IPython.core.display.HTML object>"
      ]
     },
     "metadata": {},
     "output_type": "display_data"
    }
   ],
   "source": [
    "import raceresults\n",
    "import pandas as pd\n",
    "import numpy as np\n",
    "from sklearn.preprocessing import OneHotEncoder\n",
    "from sklearn import preprocessing\n",
    "\n",
    "class DataPrepare:\n",
    "    def __init__(self):\n",
    "        self.race_result_extracted = \"\"\n",
    "        self.X = pd.DataFrame(data=None, index=None, columns=None, dtype=None, copy=False)\n",
    "        self.y = pd.DataFrame(data=None, index=None, columns=None, dtype=None, copy=False)\n",
    "        self.standard_scaler = preprocessing.StandardScaler()\n",
    "        self.racer_id_encoder = OneHotEncoder(categories=\"auto\", handle_unknown='ignore')\n",
    "        self.racer_id_categories = \"\"\n",
    "        self.place_encoder = OneHotEncoder(categories=\"auto\", handle_unknown='ignore')\n",
    "        self.place_categories = \"\"\n",
    "    \n",
    "    def data_prepare(self, race_results, is_train):\n",
    "        race_results = race_results.copy()\n",
    "        race_results_extracted_by_distance = race_results[race_results.DISTANCE ==1800]\n",
    "        \n",
    "        if is_train:\n",
    "            self.race_result_extracted = self.extract_records(race_results_extracted_by_distance)\n",
    "        else:\n",
    "            self.race_result_extracted = race_results_extracted_by_distance\n",
    "        \n",
    "        _X_extracted = self.race_result_extracted.copy().drop([\"RACE_TIME\", \"DISTANCE\", \"RACE_DATE\"], axis=1).reset_index(drop=True)\n",
    "        self.y = self.race_result_extracted.copy()[\"RACE_TIME\"]\n",
    "        \n",
    "        #ワンホットエンコーディング\n",
    "        _X_racer_id = _X_extracted[\"RACER_ID\"]\n",
    "        _X_place = _X_extracted[\"PLACE\"]\n",
    "        if is_train:\n",
    "            _X_racer_id_encoded, self.racer_id_categories = _X_racer_id.factorize()\n",
    "            _X_place_encoded, self.place_categories = _X_place.factorize()\n",
    "            racer_id_pd, self.racer_id_encoder = self.one_hot_encode(_X_racer_id_encoded, self.racer_id_categories)\n",
    "            place_pd, self.place_encoder = self.one_hot_encode(_X_place_encoded, self.place_categories)\n",
    "        else:\n",
    "            _X_racer_id_encoded = self.racer_id_categories.get_indexer(_X_racer_id)\n",
    "            _X_place_encoded = self.place_categories.get_indexer(_X_place)\n",
    "            racer_id_pd = self.one_hot_encode_for_test(_X_racer_id_encoded, self.racer_id_categories, self.racer_id_encoder)\n",
    "            place_pd = self.one_hot_encode_for_test(_X_place_encoded, self.place_categories, self.place_encoder)\n",
    "        \n",
    "        _X_dropped = _X_extracted.drop([\"RACER_ID\", \"PLACE\"], axis=1)\n",
    "        _X_1hot = pd.concat([_X_dropped, racer_id_pd, place_pd], axis=1)\n",
    "        \n",
    "        #スケーリング\n",
    "        if is_train:\n",
    "            exhibition_time_pd = self.standard_scale(_X_1hot, \"EXHIBITION_TIME\")\n",
    "        else:\n",
    "            exhibition_time_pd = self.standard_scale_for_test(_X_1hot, \"EXHIBITION_TIME\")\n",
    "            \n",
    "        _X_1hot_dropped = _X_1hot.copy().drop([\"EXHIBITION_TIME\"], axis=1)\n",
    "        \n",
    "        self.X = pd.concat([_X_1hot_dropped, exhibition_time_pd], axis=1)\n",
    "\n",
    "    def extract_records(self, race_results):\n",
    "        racer_id_count = race_results['RACER_ID'].value_counts()\n",
    "        racer_id_count_extracted = racer_id_count[racer_id_count >= 30]\n",
    "        race_results_extracted  = race_results[race_results['RACER_ID'].isin(racer_id_count_extracted.index.values.tolist())]\n",
    "        return race_results_extracted\n",
    "    \n",
    "    def one_hot_encode(self, values, categories):\n",
    "        encoder = OneHotEncoder(categories=\"auto\", handle_unknown='ignore')\n",
    "        one_hot_values = encoder.fit_transform(values.reshape(-1,1))\n",
    "        return  pd.DataFrame(one_hot_values.toarray(), columns=categories), encoder\n",
    "    \n",
    "    def one_hot_encode_for_test(self, values, categories, encorder):\n",
    "        encoder = encorder\n",
    "        one_hot_values = encoder.transform(values.reshape(-1,1))\n",
    "        return  pd.DataFrame(one_hot_values.toarray(), columns=categories)\n",
    "\n",
    "    def standard_scale(self, records, column_name):\n",
    "        records_num = records[[column_name]]\n",
    "        records_num_scaled = self.standard_scaler.fit_transform(records_num)\n",
    "        return pd.DataFrame(records_num_scaled, columns=[column_name])\n",
    "\n",
    "    def standard_scale_for_test(self, records, column_name):\n",
    "        records_num = records[[column_name]]\n",
    "        records_num_scaled = self.standard_scaler.transform(records_num)\n",
    "        return pd.DataFrame(records_num_scaled, columns=[column_name])\n",
    "    \n",
    "    def get_prepared_data(self):\n",
    "        return self.X, self.y\n",
    "    \n",
    "    def get_extracted_data(self):\n",
    "        return self.race_result_extracted"
   ]
  },
  {
   "cell_type": "code",
   "execution_count": 3,
   "metadata": {
    "scrolled": false
   },
   "outputs": [],
   "source": [
    "if __name__ == \"__main__\":\n",
    "    race_results = raceresults.RaceResults()\n",
    "    data_prepare = DataPrepare()\n",
    "    data_prepare.data_prepare(race_results.get_results_pd(), True)\n",
    "    X, y = data_prepare.get_prepared_data()\n",
    "    data_prepare.data_prepare(race_results.get_results_pd(), False)"
   ]
  }
 ],
 "metadata": {
  "kernelspec": {
   "display_name": "Python 3",
   "language": "python",
   "name": "python3"
  },
  "language_info": {
   "codemirror_mode": {
    "name": "ipython",
    "version": 3
   },
   "file_extension": ".py",
   "mimetype": "text/x-python",
   "name": "python",
   "nbconvert_exporter": "python",
   "pygments_lexer": "ipython3",
   "version": "3.6.8"
  },
  "toc": {
   "base_numbering": 1,
   "nav_menu": {},
   "number_sections": true,
   "sideBar": true,
   "skip_h1_title": false,
   "title_cell": "Table of Contents",
   "title_sidebar": "Contents",
   "toc_cell": false,
   "toc_position": {},
   "toc_section_display": true,
   "toc_window_display": false
  }
 },
 "nbformat": 4,
 "nbformat_minor": 2
}
